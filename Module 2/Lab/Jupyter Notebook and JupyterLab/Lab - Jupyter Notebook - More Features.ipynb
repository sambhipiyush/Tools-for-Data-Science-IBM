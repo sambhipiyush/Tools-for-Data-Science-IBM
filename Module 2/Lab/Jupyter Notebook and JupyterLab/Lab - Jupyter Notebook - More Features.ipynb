{
 "cells": [
  {
   "cell_type": "markdown",
   "metadata": {},
   "source": [
    "# Lab - Jupyter Notebook - More Features"
   ]
  },
  {
   "cell_type": "markdown",
   "metadata": {},
   "source": [
    "#### Special note about the lab environment:\n",
    "\n",
    "These Jupyter notebooks labs now use the latest environment: __JupyterLab__, which uses the same .ipynb Jupyter notebook files."
   ]
  },
  {
   "cell_type": "markdown",
   "metadata": {},
   "source": [
    "* **Exercise 1 - Create a new notebook in Python**\n",
    "    1. If you already have Skills Network Labs open in a tab, you can click on JupyterLab on the main page.\n",
    "    1. To create a new notebook, click on any of the languages under \"Notebook\"."
   ]
  },
  {
   "cell_type": "markdown",
   "metadata": {},
   "source": [
    "* **Exercise 2 - Write and execute code**\n",
    "\t1. In your new empty notebook (from Exercise 1), __click within the gray code cell and write some code__, like \"1 + 1\" (without quotation marks).\n",
    "\t1. Execute the code, by either clicking the Play button in the menu above the notebook, or by pressing Shift+Enter on your notebook.\n",
    "\t1. You should see in the output, \"2\".\n",
    "\t1. Try executing other code (try simple math operations).\n",
    "\t1. Great! Now you know how to write and run code in Jupyter Notebooks"
   ]
  },
  {
   "cell_type": "code",
   "execution_count": 1,
   "metadata": {},
   "outputs": [
    {
     "data": {
      "text/plain": [
       "2"
      ]
     },
     "execution_count": 1,
     "metadata": {},
     "output_type": "execute_result"
    }
   ],
   "source": [
    "# Exercise 2\n",
    "1 + 1"
   ]
  },
  {
   "cell_type": "code",
   "execution_count": null,
   "metadata": {},
   "outputs": [],
   "source": []
  },
  {
   "cell_type": "markdown",
   "metadata": {},
   "source": [
    "* **Exercise 3 - Create new cells**\n",
    "\t1. In your Jupyter notebook, first __click on any of the existing cells__ to select the cell.\n",
    "\t1. From the menu, click on \"__Insert__\", then \"__Insert Cell Above__\" or \"__Insert Cell Below__\".\n",
    "\t1. Great! Now you know how to insert new cells in Jupyter Notebooks. Note you can use the keyboard shortcuts: __[a]__ - Insert a Cell __A__bove; __[b]__ - Insert a Cell __B__elow."
   ]
  },
  {
   "cell_type": "code",
   "execution_count": null,
   "metadata": {},
   "outputs": [],
   "source": []
  },
  {
   "cell_type": "markdown",
   "metadata": {},
   "source": [
    "* **Exercise 4 - Create Markdown cells and add text**\n",
    "\t1. In your notebook, click on any code cell, and in the drop-down menu in the menu above, change the cell type from \"Code\" to \"Markdown\". As you'll notice, you cannot create Markdown cells without first creating cells and converting them from \"Code\" to \"Markdown\".\n",
    "\t1. In the Markdown cell, write some text like \"My Title\".\n",
    "\t1. To render the Markdown text, make sure the cell is selected (by clicking within it), and press Play in the menu, or Shift+Enter.\n",
    "\t1. Your Markdown cell should now be rendered!\n",
    "\t1. To edit your Markdown cell, double-click anywhere within the cell. Note you can use the keyboard shortcut: __[m]__ - Convert Cell to __M__arkdown"
   ]
  },
  {
   "cell_type": "markdown",
   "metadata": {},
   "source": [
    "My Title"
   ]
  },
  {
   "cell_type": "markdown",
   "metadata": {},
   "source": [
    "* **Exercise 5 - Rename your Notebook**\n",
    "\t1. In the list of notebooks in the right-hand panel, click on the arrow (>) to the left of the notebook name to expand the list of options.\n",
    "\t1. Click on \"Rename\" to rename your notebook to something like \"My_Notebook.ipynb\"."
   ]
  },
  {
   "cell_type": "code",
   "execution_count": null,
   "metadata": {},
   "outputs": [],
   "source": []
  },
  {
   "cell_type": "markdown",
   "metadata": {},
   "source": [
    "* **Exercise 6 - Save and Download your Jupyter Notebook from Skills Network Labs to your computer**\n",
    "\t* Although your notebooks and data is preserved in your account after signing out, sometimes you may want to download your notebook to your computer.\n",
    "\t\t1. To save, click on the Save button in the menu, or go to \"Save Notebook\".\n",
    "\t\t1. To download the notebook, click on the Files pane to open the list of files. Navigate to your notebook, and right-click on the file to download the notebook.\n"
   ]
  },
  {
   "cell_type": "code",
   "execution_count": null,
   "metadata": {},
   "outputs": [],
   "source": []
  },
  {
   "cell_type": "markdown",
   "metadata": {},
   "source": [
    "* **Exercise 7 - Upload a Jupyter Notebook to Skills Network Labs**\n",
    "\t1. To upload a Jupyter Notebook from your computer to Skills Network Labs, drag and drop a .ipynb file from your computer directly into the browser. You can use the notebook you downloaded from Exercise 6.\n",
    "\t1. Your notebook should open up automatically once it has finished uploading.\n"
   ]
  },
  {
   "cell_type": "code",
   "execution_count": null,
   "metadata": {},
   "outputs": [],
   "source": []
  },
  {
   "cell_type": "markdown",
   "metadata": {},
   "source": [
    "\n",
    "* **Exercise 8 - Change your kernel (to Python 3, R) in JupyterLab**\n",
    "\t1. With a notebook open, click on the kernel name (e.g., Python 3) in the top-righthand corner of the notebook to open up a pop-up window to change it to a different language.\n"
   ]
  },
  {
   "cell_type": "code",
   "execution_count": null,
   "metadata": {},
   "outputs": [],
   "source": []
  }
 ],
 "metadata": {
  "kernelspec": {
   "display_name": "Python",
   "language": "python",
   "name": "conda-env-python-py"
  },
  "language_info": {
   "codemirror_mode": {
    "name": "ipython",
    "version": 3
   },
   "file_extension": ".py",
   "mimetype": "text/x-python",
   "name": "python",
   "nbconvert_exporter": "python",
   "pygments_lexer": "ipython3",
   "version": "3.6.10"
  }
 },
 "nbformat": 4,
 "nbformat_minor": 4
}
